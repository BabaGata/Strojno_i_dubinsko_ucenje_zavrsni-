{
 "cells": [
  {
   "cell_type": "code",
   "execution_count": 1,
   "metadata": {},
   "outputs": [],
   "source": [
    "from tqdm.notebook import tqdm\n",
    "from sklearn.preprocessing import MinMaxScaler\n",
    "import numpy as np\n",
    "import matplotlib\n",
    "import matplotlib.pyplot as plt\n",
    "import pandas as pd\n",
    "\n",
    "tqdm.pandas()"
   ]
  },
  {
   "cell_type": "code",
   "execution_count": 2,
   "metadata": {},
   "outputs": [],
   "source": [
    "from Data.DataModels.datasetFromSequences import SequenceDatasetCUDA\n",
    "from Data.DataModels.dataModule import DataModule\n",
    "from Models.modelLSTM import LSTMModel\n",
    "from Models.modelMAMBA import MAMBAModel\n",
    "from Models.modelTransformer import TransformerModel\n",
    "from Models.moduleAdamW import AdamWModule\n",
    "from Data.preprocessingChangeInPrice import PreprocessChangeInPrice"
   ]
  },
  {
   "cell_type": "code",
   "execution_count": 3,
   "metadata": {},
   "outputs": [],
   "source": [
    "N_EPOCHS = 10\n",
    "BATCH_SIZE = 64\n",
    "LEARNING_RATE = 0.0001\n",
    "SEQUENCE_LENGTH = 120\n",
    "\n",
    "VAL_PERC = .1\n",
    "TEST_PERC = .1\n",
    "DATE_COLUMN = 'Date'\n",
    "COLUMN_TO_SHIFT = 'Close'"
   ]
  },
  {
   "cell_type": "code",
   "execution_count": 4,
   "metadata": {},
   "outputs": [
    {
     "name": "stdout",
     "output_type": "stream",
     "text": [
      "Getting the change of price in a day...\n"
     ]
    },
    {
     "data": {
      "application/vnd.jupyter.widget-view+json": {
       "model_id": "1b805c5926df4e659954aaa46f521b11",
       "version_major": 2,
       "version_minor": 0
      },
      "text/plain": [
       "  0%|          | 0/4825 [00:00<?, ?it/s]"
      ]
     },
     "metadata": {},
     "output_type": "display_data"
    },
    {
     "name": "stdout",
     "output_type": "stream",
     "text": [
      "Getting the change of price in a day...\n"
     ]
    },
    {
     "data": {
      "application/vnd.jupyter.widget-view+json": {
       "model_id": "8447b921f6174f1fafcc190799add8c3",
       "version_major": 2,
       "version_minor": 0
      },
      "text/plain": [
       "  0%|          | 0/4825 [00:00<?, ?it/s]"
      ]
     },
     "metadata": {},
     "output_type": "display_data"
    },
    {
     "name": "stdout",
     "output_type": "stream",
     "text": [
      "Index(['Date', 'Open', 'High', 'Low', 'Close', 'Volume', 'Ex-Dividend',\n",
      "       'Split Ratio', 'Adj. Open', 'Adj. High', 'Adj. Low', 'Adj. Close',\n",
      "       'Adj. Volume', 'Previous', 'Previous_Change', 'Future',\n",
      "       'Future_Change'],\n",
      "      dtype='object')\n",
      "Transforming date column to day_of_week, day_of_month, week_of_year and year columns...\n"
     ]
    },
    {
     "data": {
      "application/vnd.jupyter.widget-view+json": {
       "model_id": "40cbdc07c9cd4d99a114798c73dc9b71",
       "version_major": 2,
       "version_minor": 0
      },
      "text/plain": [
       "  0%|          | 0/4825 [00:00<?, ?it/s]"
      ]
     },
     "metadata": {},
     "output_type": "display_data"
    },
    {
     "name": "stdout",
     "output_type": "stream",
     "text": [
      "Current shape after transformation of date column:  (4825, 12)\n",
      "Current train and test shapes:  (3860, 12) (483, 12)\n",
      "Creating sequences from pandas DataFrame...\n"
     ]
    },
    {
     "data": {
      "application/vnd.jupyter.widget-view+json": {
       "model_id": "193c4266313a44f0862168f727a56ee0",
       "version_major": 2,
       "version_minor": 0
      },
      "text/plain": [
       "  0%|          | 0/3740 [00:00<?, ?it/s]"
      ]
     },
     "metadata": {},
     "output_type": "display_data"
    },
    {
     "data": {
      "application/vnd.jupyter.widget-view+json": {
       "model_id": "3bfedd73cb8e44bf88e0b546c9fdec0e",
       "version_major": 2,
       "version_minor": 0
      },
      "text/plain": [
       "  0%|          | 0/362 [00:00<?, ?it/s]"
      ]
     },
     "metadata": {},
     "output_type": "display_data"
    },
    {
     "data": {
      "application/vnd.jupyter.widget-view+json": {
       "model_id": "46ac73df290247d8a07c2dbf165d4345",
       "version_major": 2,
       "version_minor": 0
      },
      "text/plain": [
       "  0%|          | 0/363 [00:00<?, ?it/s]"
      ]
     },
     "metadata": {},
     "output_type": "display_data"
    },
    {
     "name": "stdout",
     "output_type": "stream",
     "text": [
      "Train shape:  (120, 12)\n",
      "Val shape:  (120, 12)\n",
      "Test shape:  (120, 12)\n"
     ]
    }
   ],
   "source": [
    "nvda_data = PreprocessChangeInPrice(\n",
    "    csv_path = 'Data/CSV/WIKI-NVDA.csv',\n",
    "    date_column = DATE_COLUMN ,\n",
    "    column_to_shift = COLUMN_TO_SHIFT,\n",
    "    use_scaler = False,\n",
    "    sequence_length = SEQUENCE_LENGTH,\n",
    "    val_percentage = VAL_PERC,\n",
    "    test_percentage = TEST_PERC\n",
    ")\n",
    "\n",
    "nvda_data.preprocess()"
   ]
  },
  {
   "cell_type": "code",
   "execution_count": 5,
   "metadata": {},
   "outputs": [
    {
     "name": "stdout",
     "output_type": "stream",
     "text": [
      "Getting the change of price in a day...\n"
     ]
    },
    {
     "data": {
      "application/vnd.jupyter.widget-view+json": {
       "model_id": "e7cee73240304621b4a993114685478f",
       "version_major": 2,
       "version_minor": 0
      },
      "text/plain": [
       "  0%|          | 0/6485 [00:00<?, ?it/s]"
      ]
     },
     "metadata": {},
     "output_type": "display_data"
    },
    {
     "name": "stdout",
     "output_type": "stream",
     "text": [
      "Getting the change of price in a day...\n"
     ]
    },
    {
     "data": {
      "application/vnd.jupyter.widget-view+json": {
       "model_id": "2c3e306b1ddd4bc4b935182c8713d012",
       "version_major": 2,
       "version_minor": 0
      },
      "text/plain": [
       "  0%|          | 0/6485 [00:00<?, ?it/s]"
      ]
     },
     "metadata": {},
     "output_type": "display_data"
    },
    {
     "name": "stdout",
     "output_type": "stream",
     "text": [
      "Index(['Date', 'Open', 'High', 'Low', 'Close', 'Volume', 'Ex-Dividend',\n",
      "       'Split Ratio', 'Adj. Open', 'Adj. High', 'Adj. Low', 'Adj. Close',\n",
      "       'Adj. Volume', 'Previous', 'Previous_Change', 'Future',\n",
      "       'Future_Change'],\n",
      "      dtype='object')\n",
      "Transforming date column to day_of_week, day_of_month, week_of_year and year columns...\n"
     ]
    },
    {
     "data": {
      "application/vnd.jupyter.widget-view+json": {
       "model_id": "a459cd9f013545d69aeeeb86c1ee09e0",
       "version_major": 2,
       "version_minor": 0
      },
      "text/plain": [
       "  0%|          | 0/6485 [00:00<?, ?it/s]"
      ]
     },
     "metadata": {},
     "output_type": "display_data"
    },
    {
     "name": "stdout",
     "output_type": "stream",
     "text": [
      "Current shape after transformation of date column:  (6485, 12)\n",
      "Current train and test shapes:  (5188, 12) (649, 12)\n",
      "Creating sequences from pandas DataFrame...\n"
     ]
    },
    {
     "data": {
      "application/vnd.jupyter.widget-view+json": {
       "model_id": "950a939953e54a82af67e1e90dd226bf",
       "version_major": 2,
       "version_minor": 0
      },
      "text/plain": [
       "  0%|          | 0/5068 [00:00<?, ?it/s]"
      ]
     },
     "metadata": {},
     "output_type": "display_data"
    },
    {
     "data": {
      "application/vnd.jupyter.widget-view+json": {
       "model_id": "2664e8c7405649b48ac9bfb3b95a414a",
       "version_major": 2,
       "version_minor": 0
      },
      "text/plain": [
       "  0%|          | 0/528 [00:00<?, ?it/s]"
      ]
     },
     "metadata": {},
     "output_type": "display_data"
    },
    {
     "data": {
      "application/vnd.jupyter.widget-view+json": {
       "model_id": "71ea7cedb3e54df08df0f4604bb405ee",
       "version_major": 2,
       "version_minor": 0
      },
      "text/plain": [
       "  0%|          | 0/529 [00:00<?, ?it/s]"
      ]
     },
     "metadata": {},
     "output_type": "display_data"
    },
    {
     "name": "stdout",
     "output_type": "stream",
     "text": [
      "Train shape:  (120, 12)\n",
      "Val shape:  (120, 12)\n",
      "Test shape:  (120, 12)\n"
     ]
    }
   ],
   "source": [
    "sbux_data = PreprocessChangeInPrice(\n",
    "    csv_path = 'Data/CSV/WIKI-SBUX.csv',\n",
    "    date_column = DATE_COLUMN ,\n",
    "    column_to_shift = COLUMN_TO_SHIFT,\n",
    "    use_scaler = False,\n",
    "    sequence_length = SEQUENCE_LENGTH,\n",
    "    val_percentage = VAL_PERC,\n",
    "    test_percentage = TEST_PERC\n",
    ")\n",
    "\n",
    "sbux_data.preprocess()"
   ]
  },
  {
   "cell_type": "code",
   "execution_count": 6,
   "metadata": {},
   "outputs": [
    {
     "name": "stdout",
     "output_type": "stream",
     "text": [
      "Getting the change of price in a day...\n"
     ]
    },
    {
     "data": {
      "application/vnd.jupyter.widget-view+json": {
       "model_id": "2d003d015edd4147b11d74c468c82bae",
       "version_major": 2,
       "version_minor": 0
      },
      "text/plain": [
       "  0%|          | 0/8076 [00:00<?, ?it/s]"
      ]
     },
     "metadata": {},
     "output_type": "display_data"
    },
    {
     "name": "stdout",
     "output_type": "stream",
     "text": [
      "Getting the change of price in a day...\n"
     ]
    },
    {
     "data": {
      "application/vnd.jupyter.widget-view+json": {
       "model_id": "9f980632c6bc4432a408029e3ef1e234",
       "version_major": 2,
       "version_minor": 0
      },
      "text/plain": [
       "  0%|          | 0/8076 [00:00<?, ?it/s]"
      ]
     },
     "metadata": {},
     "output_type": "display_data"
    },
    {
     "name": "stdout",
     "output_type": "stream",
     "text": [
      "Index(['Date', 'Open', 'High', 'Low', 'Close', 'Volume', 'Ex-Dividend',\n",
      "       'Split Ratio', 'Adj. Open', 'Adj. High', 'Adj. Low', 'Adj. Close',\n",
      "       'Adj. Volume', 'Previous', 'Previous_Change', 'Future',\n",
      "       'Future_Change'],\n",
      "      dtype='object')\n",
      "Transforming date column to day_of_week, day_of_month, week_of_year and year columns...\n"
     ]
    },
    {
     "data": {
      "application/vnd.jupyter.widget-view+json": {
       "model_id": "2e5ffd5e30e941eaa2c86d4e62e8cf2c",
       "version_major": 2,
       "version_minor": 0
      },
      "text/plain": [
       "  0%|          | 0/8076 [00:00<?, ?it/s]"
      ]
     },
     "metadata": {},
     "output_type": "display_data"
    },
    {
     "name": "stdout",
     "output_type": "stream",
     "text": [
      "Current shape after transformation of date column:  (8076, 12)\n",
      "Current train and test shapes:  (6460, 12) (809, 12)\n",
      "Creating sequences from pandas DataFrame...\n"
     ]
    },
    {
     "data": {
      "application/vnd.jupyter.widget-view+json": {
       "model_id": "9930ddd7808e4386b72a5662f684e84f",
       "version_major": 2,
       "version_minor": 0
      },
      "text/plain": [
       "  0%|          | 0/6340 [00:00<?, ?it/s]"
      ]
     },
     "metadata": {},
     "output_type": "display_data"
    },
    {
     "data": {
      "application/vnd.jupyter.widget-view+json": {
       "model_id": "d23e15f908894c829ec2091f46449932",
       "version_major": 2,
       "version_minor": 0
      },
      "text/plain": [
       "  0%|          | 0/687 [00:00<?, ?it/s]"
      ]
     },
     "metadata": {},
     "output_type": "display_data"
    },
    {
     "data": {
      "application/vnd.jupyter.widget-view+json": {
       "model_id": "f5a1b4506371453d804d7a700b7c3406",
       "version_major": 2,
       "version_minor": 0
      },
      "text/plain": [
       "  0%|          | 0/689 [00:00<?, ?it/s]"
      ]
     },
     "metadata": {},
     "output_type": "display_data"
    },
    {
     "name": "stdout",
     "output_type": "stream",
     "text": [
      "Train shape:  (120, 12)\n",
      "Val shape:  (120, 12)\n",
      "Test shape:  (120, 12)\n"
     ]
    }
   ],
   "source": [
    "msft_data = PreprocessChangeInPrice(\n",
    "    csv_path = 'Data/CSV/WIKI-MSFT.csv',\n",
    "    date_column = DATE_COLUMN ,\n",
    "    column_to_shift = COLUMN_TO_SHIFT,\n",
    "    use_scaler = False,\n",
    "    sequence_length = SEQUENCE_LENGTH,\n",
    "    val_percentage = VAL_PERC,\n",
    "    test_percentage = TEST_PERC\n",
    ")\n",
    "\n",
    "msft_data.preprocess()"
   ]
  },
  {
   "cell_type": "code",
   "execution_count": 7,
   "metadata": {},
   "outputs": [],
   "source": [
    "\n",
    "nvda_dataset = SequenceDatasetCUDA(nvda_data.test_sequences)"
   ]
  },
  {
   "cell_type": "code",
   "execution_count": 8,
   "metadata": {},
   "outputs": [
    {
     "name": "stderr",
     "output_type": "stream",
     "text": [
      "/home/agata/.local/lib/python3.10/site-packages/pytorch_lightning/utilities/parsing.py:208: Attribute 'criterion' is an instance of `nn.Module` and is already saved during checkpointing. It is recommended to ignore them using `self.save_hyperparameters(ignore=['criterion'])`.\n"
     ]
    }
   ],
   "source": [
    "lstm_stock_model = AdamWModule.load_from_checkpoint(\n",
    "    'Checkpoints/stock-price/best_models/lstm-stock-checkpoint.ckpt',\n",
    "    n_features = nvda_data.train_sequences[0][0].shape[1]\n",
    ")\n",
    "\n",
    "transformer_stock_model = AdamWModule.load_from_checkpoint(\n",
    "    'Checkpoints/stock-price/best_models/transformer-stock-checkpoint.ckpt',\n",
    "    n_features = nvda_data.train_sequences[0][0].shape[1]\n",
    ")\n",
    "\n",
    "mamba_stock_model = AdamWModule.load_from_checkpoint(\n",
    "    'Checkpoints/stock-price/best_models/mamba-stock-checkpoint.ckpt',\n",
    "    n_features = nvda_data.train_sequences[0][0].shape[1]\n",
    ")"
   ]
  },
  {
   "cell_type": "code",
   "execution_count": 9,
   "metadata": {},
   "outputs": [
    {
     "data": {
      "application/vnd.jupyter.widget-view+json": {
       "model_id": "b2035946f0764ef782eeb2d905ccd96a",
       "version_major": 2,
       "version_minor": 0
      },
      "text/plain": [
       "  0%|          | 0/363 [00:00<?, ?it/s]"
      ]
     },
     "metadata": {},
     "output_type": "display_data"
    }
   ],
   "source": [
    "lstm_stock_predictions = []\n",
    "lstm_stock_labels = []\n",
    "\n",
    "for item in tqdm(nvda_dataset):\n",
    "    sequence = item['sequence']\n",
    "    label = item['label']\n",
    "\n",
    "    _, output = lstm_stock_model(sequence.unsqueeze(dim = 0))\n",
    "    lstm_stock_predictions.append(output.item())\n",
    "    lstm_stock_labels.append(label.item())"
   ]
  },
  {
   "cell_type": "code",
   "execution_count": 10,
   "metadata": {},
   "outputs": [
    {
     "data": {
      "application/vnd.jupyter.widget-view+json": {
       "model_id": "9f2b5a93f3504925acd93efd14c188ef",
       "version_major": 2,
       "version_minor": 0
      },
      "text/plain": [
       "  0%|          | 0/363 [00:00<?, ?it/s]"
      ]
     },
     "metadata": {},
     "output_type": "display_data"
    }
   ],
   "source": [
    "\n",
    "transformer_stock_predictions = []\n",
    "transformer_stock_labels = []\n",
    "\n",
    "for item in tqdm(nvda_dataset):\n",
    "    sequence = item['sequence']\n",
    "    label = item['label']\n",
    "\n",
    "    _, output = transformer_stock_model(sequence.unsqueeze(dim = 0))\n",
    "    transformer_stock_predictions.append(output.item())\n",
    "    transformer_stock_labels.append(label.item())"
   ]
  },
  {
   "cell_type": "code",
   "execution_count": 11,
   "metadata": {},
   "outputs": [
    {
     "data": {
      "application/vnd.jupyter.widget-view+json": {
       "model_id": "401731a875b1495eaed9404b085950b1",
       "version_major": 2,
       "version_minor": 0
      },
      "text/plain": [
       "  0%|          | 0/363 [00:00<?, ?it/s]"
      ]
     },
     "metadata": {},
     "output_type": "display_data"
    }
   ],
   "source": [
    "mamba_stock_predictions = []\n",
    "mamba_stock_labels = []\n",
    "\n",
    "for item in tqdm(nvda_dataset):\n",
    "    sequence = item['sequence']\n",
    "    label = item['label']\n",
    "\n",
    "    _, output = mamba_stock_model(sequence.unsqueeze(dim = 0))\n",
    "    mamba_stock_predictions.append(output.item())\n",
    "    mamba_stock_labels.append(label.item())"
   ]
  },
  {
   "cell_type": "code",
   "execution_count": 12,
   "metadata": {},
   "outputs": [
    {
     "data": {
      "text/plain": [
       "(363, 483)"
      ]
     },
     "execution_count": 12,
     "metadata": {},
     "output_type": "execute_result"
    }
   ],
   "source": [
    "len(lstm_stock_predictions), len(nvda_data.test_df)"
   ]
  },
  {
   "cell_type": "code",
   "execution_count": 13,
   "metadata": {},
   "outputs": [
    {
     "data": {
      "text/plain": [
       "363"
      ]
     },
     "execution_count": 13,
     "metadata": {},
     "output_type": "execute_result"
    }
   ],
   "source": [
    "len(nvda_data.test_df) - SEQUENCE_LENGTH"
   ]
  },
  {
   "cell_type": "code",
   "execution_count": 14,
   "metadata": {},
   "outputs": [],
   "source": [
    "scaler = MinMaxScaler(feature_range=(-1, 1))\n",
    "scaler = scaler.fit(nvda_data.train_df[['close']])"
   ]
  },
  {
   "cell_type": "code",
   "execution_count": 15,
   "metadata": {},
   "outputs": [
    {
     "data": {
      "text/plain": [
       "(363, 363)"
      ]
     },
     "execution_count": 15,
     "metadata": {},
     "output_type": "execute_result"
    }
   ],
   "source": [
    "nvda_test_sequences_data = nvda_data.test_df.iloc[SEQUENCE_LENGTH:]\n",
    "len(nvda_test_sequences_data), len(lstm_stock_predictions)"
   ]
  },
  {
   "cell_type": "code",
   "execution_count": 16,
   "metadata": {},
   "outputs": [
    {
     "name": "stderr",
     "output_type": "stream",
     "text": [
      "/tmp/ipykernel_7604/2868374266.py:1: SettingWithCopyWarning: \n",
      "A value is trying to be set on a copy of a slice from a DataFrame.\n",
      "Try using .loc[row_indexer,col_indexer] = value instead\n",
      "\n",
      "See the caveats in the documentation: https://pandas.pydata.org/pandas-docs/stable/user_guide/indexing.html#returning-a-view-versus-a-copy\n",
      "  nvda_test_sequences_data['date'] = nvda_test_sequences_data[['year', 'month', 'day_of_month']].astype(str).apply('-'.join, axis=1)\n",
      "/tmp/ipykernel_7604/2868374266.py:2: SettingWithCopyWarning: \n",
      "A value is trying to be set on a copy of a slice from a DataFrame.\n",
      "Try using .loc[row_indexer,col_indexer] = value instead\n",
      "\n",
      "See the caveats in the documentation: https://pandas.pydata.org/pandas-docs/stable/user_guide/indexing.html#returning-a-view-versus-a-copy\n",
      "  nvda_test_sequences_data['date'] = pd.to_datetime(nvda_test_sequences_data['date'])\n"
     ]
    }
   ],
   "source": [
    "nvda_test_sequences_data['date'] = nvda_test_sequences_data[['year', 'month', 'day_of_month']].astype(str).apply('-'.join, axis=1)\n",
    "nvda_test_sequences_data['date'] = pd.to_datetime(nvda_test_sequences_data['date'])"
   ]
  },
  {
   "cell_type": "code",
   "execution_count": 27,
   "metadata": {},
   "outputs": [
    {
     "data": {
      "text/plain": [
       "[0.09883730858564377,\n",
       " 0.09883731603622437,\n",
       " 0.09883730858564377,\n",
       " 0.09883731603622437,\n",
       " 0.09883730858564377,\n",
       " 0.09883730858564377,\n",
       " 0.09883730113506317,\n",
       " 0.09883730858564377,\n",
       " 0.09883730113506317,\n",
       " 0.09883730858564377,\n",
       " 0.09883730113506317,\n",
       " 0.09883731603622437,\n",
       " 0.09883730858564377,\n",
       " 0.09883731603622437,\n",
       " 0.09883730858564377,\n",
       " 0.09883730858564377,\n",
       " 0.09883730858564377,\n",
       " 0.09883730858564377,\n",
       " 0.09883730858564377,\n",
       " 0.09883730858564377,\n",
       " 0.09883730113506317,\n",
       " 0.09883730858564377,\n",
       " 0.09883730858564377,\n",
       " 0.09883730113506317,\n",
       " 0.09883730858564377,\n",
       " 0.09883731603622437,\n",
       " 0.09883730858564377,\n",
       " 0.09883730858564377,\n",
       " 0.09883730858564377,\n",
       " 0.09883731603622437,\n",
       " 0.09883731603622437,\n",
       " 0.09883731603622437,\n",
       " 0.09883730858564377,\n",
       " 0.09883730858564377,\n",
       " 0.09883730858564377,\n",
       " 0.09883731603622437,\n",
       " 0.09883730858564377,\n",
       " 0.09883730858564377,\n",
       " 0.09883730858564377,\n",
       " 0.09883731603622437,\n",
       " 0.09883731603622437,\n",
       " 0.09883730858564377,\n",
       " 0.09883730858564377,\n",
       " 0.09883731603622437,\n",
       " 0.09883730858564377,\n",
       " 0.09883730113506317,\n",
       " 0.09883730113506317,\n",
       " 0.09883731603622437,\n",
       " 0.09883730113506317,\n",
       " 0.09883731603622437,\n",
       " 0.09883730858564377,\n",
       " 0.09883730858564377,\n",
       " 0.09883730858564377,\n",
       " 0.09883730113506317,\n",
       " 0.09883730858564377,\n",
       " 0.09883730113506317,\n",
       " 0.09883730858564377,\n",
       " 0.09883731603622437,\n",
       " 0.09883730858564377,\n",
       " 0.09883730858564377,\n",
       " 0.09883730858564377,\n",
       " 0.09883730858564377,\n",
       " 0.09883731603622437,\n",
       " 0.09883731603622437,\n",
       " 0.09883730858564377,\n",
       " 0.09883730113506317,\n",
       " 0.09883730858564377,\n",
       " 0.09883730858564377,\n",
       " 0.09883730858564377,\n",
       " 0.09883731603622437,\n",
       " 0.09883730858564377,\n",
       " 0.09883731603622437,\n",
       " 0.09883730858564377,\n",
       " 0.09883730858564377,\n",
       " 0.09883730858564377,\n",
       " 0.09883730858564377,\n",
       " 0.09883730858564377,\n",
       " 0.09883731603622437,\n",
       " 0.09883731603622437,\n",
       " 0.09883730858564377,\n",
       " 0.09883730858564377,\n",
       " 0.09883730113506317,\n",
       " 0.09883730858564377,\n",
       " 0.09883730858564377,\n",
       " 0.09883730113506317,\n",
       " 0.09883730858564377,\n",
       " 0.09883730858564377,\n",
       " 0.09883731603622437,\n",
       " 0.09883730858564377,\n",
       " 0.09883730113506317,\n",
       " 0.09883730858564377,\n",
       " 0.09883730858564377,\n",
       " 0.09883731603622437,\n",
       " 0.09883730113506317,\n",
       " 0.09883730858564377,\n",
       " 0.09883730858564377,\n",
       " 0.09883730113506317,\n",
       " 0.09883730858564377,\n",
       " 0.09883731603622437,\n",
       " 0.09883731603622437,\n",
       " 0.09883730858564377,\n",
       " 0.09883730858564377,\n",
       " 0.09883730858564377,\n",
       " 0.09883730858564377,\n",
       " 0.09883731603622437,\n",
       " 0.09883731603622437,\n",
       " 0.09883731603622437,\n",
       " 0.09883730113506317,\n",
       " 0.09883730858564377,\n",
       " 0.09883730858564377,\n",
       " 0.09883730858564377,\n",
       " 0.09883730858564377,\n",
       " 0.09883730113506317,\n",
       " 0.09883730858564377,\n",
       " 0.09883730858564377,\n",
       " 0.09883730858564377,\n",
       " 0.09883730858564377,\n",
       " 0.09883730858564377,\n",
       " 0.09883731603622437,\n",
       " 0.09883730858564377,\n",
       " 0.09883731603622437,\n",
       " 0.09883730858564377,\n",
       " 0.09883731603622437,\n",
       " 0.09883730858564377,\n",
       " 0.09883730113506317,\n",
       " 0.09883730858564377,\n",
       " 0.09883730858564377,\n",
       " 0.09883730858564377,\n",
       " 0.09883731603622437,\n",
       " 0.09883730858564377,\n",
       " 0.09883730858564377,\n",
       " 0.09883730858564377,\n",
       " 0.09883730858564377,\n",
       " 0.09883731603622437,\n",
       " 0.09883730858564377,\n",
       " 0.09883730858564377,\n",
       " 0.09883730858564377,\n",
       " 0.09883730113506317,\n",
       " 0.09883730858564377,\n",
       " 0.09883731603622437,\n",
       " 0.09883730858564377,\n",
       " 0.09883730858564377,\n",
       " 0.09883731603622437,\n",
       " 0.09883730858564377,\n",
       " 0.09883730858564377,\n",
       " 0.09883731603622437,\n",
       " 0.09883730858564377,\n",
       " 0.09883730858564377,\n",
       " 0.09883730858564377,\n",
       " 0.09883730113506317,\n",
       " 0.09883730858564377,\n",
       " 0.09883730113506317,\n",
       " 0.09883730113506317,\n",
       " 0.09883730858564377,\n",
       " 0.09883730113506317,\n",
       " 0.09883730858564377,\n",
       " 0.09883730858564377,\n",
       " 0.09883730858564377,\n",
       " 0.09883730858564377,\n",
       " 0.09883730113506317,\n",
       " 0.09883730858564377,\n",
       " 0.09883730858564377,\n",
       " 0.09883731603622437,\n",
       " 0.09883730858564377,\n",
       " 0.09883731603622437,\n",
       " 0.09883730113506317,\n",
       " 0.09883730858564377,\n",
       " 0.09883730858564377,\n",
       " 0.09883730858564377,\n",
       " 0.09883731603622437,\n",
       " 0.09883730858564377,\n",
       " 0.09883730858564377,\n",
       " 0.09883730858564377,\n",
       " 0.09883730858564377,\n",
       " 0.09883730858564377,\n",
       " 0.09883730858564377,\n",
       " 0.09883730858564377,\n",
       " 0.09883730858564377,\n",
       " 0.09883731603622437,\n",
       " 0.09883730858564377,\n",
       " 0.09883730858564377,\n",
       " 0.09883730858564377,\n",
       " 0.09883730858564377,\n",
       " 0.09883731603622437,\n",
       " 0.09883730113506317,\n",
       " 0.09883730113506317,\n",
       " 0.09883730858564377,\n",
       " 0.09883731603622437,\n",
       " 0.09883730113506317,\n",
       " 0.09883730858564377,\n",
       " 0.09883730113506317,\n",
       " 0.09883730858564377,\n",
       " 0.09883730858564377,\n",
       " 0.09883730858564377,\n",
       " 0.09883730858564377,\n",
       " 0.09883731603622437,\n",
       " 0.09883730113506317,\n",
       " 0.09883730858564377,\n",
       " 0.09883730858564377,\n",
       " 0.09883730858564377,\n",
       " 0.09883730113506317,\n",
       " 0.09883731603622437,\n",
       " 0.09883730113506317,\n",
       " 0.09883730858564377,\n",
       " 0.09883730858564377,\n",
       " 0.09883731603622437,\n",
       " 0.09883731603622437,\n",
       " 0.09883730858564377,\n",
       " 0.09883730858564377,\n",
       " 0.09883730858564377,\n",
       " 0.09883731603622437,\n",
       " 0.09883730858564377,\n",
       " 0.09883730858564377,\n",
       " 0.09883730858564377,\n",
       " 0.09883730858564377,\n",
       " 0.09883730858564377,\n",
       " 0.09883730113506317,\n",
       " 0.09883731603622437,\n",
       " 0.09883730858564377,\n",
       " 0.09883730858564377,\n",
       " 0.09883730113506317,\n",
       " 0.09883730858564377,\n",
       " 0.09883730858564377,\n",
       " 0.09883730858564377,\n",
       " 0.09883731603622437,\n",
       " 0.09883730858564377,\n",
       " 0.09883730858564377,\n",
       " 0.09883730858564377,\n",
       " 0.09883730858564377,\n",
       " 0.09883731603622437,\n",
       " 0.09883730858564377,\n",
       " 0.09883730113506317,\n",
       " 0.09883730858564377,\n",
       " 0.09883730858564377,\n",
       " 0.09883730113506317,\n",
       " 0.09883730858564377,\n",
       " 0.09883730858564377,\n",
       " 0.09883731603622437,\n",
       " 0.09883730113506317,\n",
       " 0.09883731603622437,\n",
       " 0.09883731603622437,\n",
       " 0.09883730858564377,\n",
       " 0.09883730113506317,\n",
       " 0.09883730858564377,\n",
       " 0.09883730113506317,\n",
       " 0.09883730858564377,\n",
       " 0.09883731603622437,\n",
       " 0.09883730858564377,\n",
       " 0.09883730858564377,\n",
       " 0.09883730858564377,\n",
       " 0.09883730113506317,\n",
       " 0.09883731603622437,\n",
       " 0.09883730858564377,\n",
       " 0.09883730113506317,\n",
       " 0.09883731603622437,\n",
       " 0.09883730858564377,\n",
       " 0.09883730113506317,\n",
       " 0.09883731603622437,\n",
       " 0.09883730858564377,\n",
       " 0.09883730858564377,\n",
       " 0.09883731603622437,\n",
       " 0.09883731603622437,\n",
       " 0.09883731603622437,\n",
       " 0.09883730858564377,\n",
       " 0.09883730113506317,\n",
       " 0.09883730858564377,\n",
       " 0.09883730113506317,\n",
       " 0.09883730858564377,\n",
       " 0.09883730113506317,\n",
       " 0.09883730113506317,\n",
       " 0.09883730858564377,\n",
       " 0.09883730858564377,\n",
       " 0.09883730858564377,\n",
       " 0.09883730858564377,\n",
       " 0.09883731603622437,\n",
       " 0.09883730113506317,\n",
       " 0.09883730858564377,\n",
       " 0.09883730113506317,\n",
       " 0.09883730113506317,\n",
       " 0.09883730858564377,\n",
       " 0.09883730858564377,\n",
       " 0.09883730858564377,\n",
       " 0.09883730858564377,\n",
       " 0.09883730858564377,\n",
       " 0.09883731603622437,\n",
       " 0.09883730858564377,\n",
       " 0.09883730858564377,\n",
       " 0.09883730858564377,\n",
       " 0.09883730858564377,\n",
       " 0.09883730858564377,\n",
       " 0.09883730858564377,\n",
       " 0.09883730858564377,\n",
       " 0.09883730858564377,\n",
       " 0.09883730858564377,\n",
       " 0.09883730858564377,\n",
       " 0.09883731603622437,\n",
       " 0.09883730858564377,\n",
       " 0.09883730858564377,\n",
       " 0.09883730858564377,\n",
       " 0.09883730113506317,\n",
       " 0.09883731603622437,\n",
       " 0.09883730113506317,\n",
       " 0.09883731603622437,\n",
       " 0.09883731603622437,\n",
       " 0.09883730858564377,\n",
       " 0.09883731603622437,\n",
       " 0.09883730858564377,\n",
       " 0.09883730858564377,\n",
       " 0.09883730113506317,\n",
       " 0.09883730858564377,\n",
       " 0.09883730858564377,\n",
       " 0.09883730113506317,\n",
       " 0.09883730858564377,\n",
       " 0.09883730113506317,\n",
       " 0.09883730113506317,\n",
       " 0.09883730858564377,\n",
       " 0.09883730858564377,\n",
       " 0.09883730858564377,\n",
       " 0.09883731603622437,\n",
       " 0.09883730858564377,\n",
       " 0.09883730858564377,\n",
       " 0.09883730858564377,\n",
       " 0.09883730858564377,\n",
       " 0.09883730858564377,\n",
       " 0.09883730858564377,\n",
       " 0.09883730858564377,\n",
       " 0.09883730113506317,\n",
       " 0.09883731603622437,\n",
       " 0.09883730858564377,\n",
       " 0.09883730858564377,\n",
       " 0.09883731603622437,\n",
       " 0.09883730858564377,\n",
       " 0.09883730858564377,\n",
       " 0.09883730858564377,\n",
       " 0.09883730858564377,\n",
       " 0.09883730858564377,\n",
       " 0.09883730858564377,\n",
       " 0.09883730113506317,\n",
       " 0.09883730858564377,\n",
       " 0.09883731603622437,\n",
       " 0.09883731603622437,\n",
       " 0.09883730858564377,\n",
       " 0.09883730858564377,\n",
       " 0.09883730858564377,\n",
       " 0.09883730858564377,\n",
       " 0.09883730858564377,\n",
       " 0.09883730858564377,\n",
       " 0.09883730858564377,\n",
       " 0.09883730858564377,\n",
       " 0.09883731603622437,\n",
       " 0.09883731603622437,\n",
       " 0.09883730858564377,\n",
       " 0.09883730858564377,\n",
       " 0.09883730858564377,\n",
       " 0.09883730858564377,\n",
       " 0.09883730858564377,\n",
       " 0.09883730858564377,\n",
       " 0.09883730858564377,\n",
       " 0.09883730858564377,\n",
       " 0.09883731603622437,\n",
       " 0.09883730858564377,\n",
       " 0.09883730858564377,\n",
       " 0.09883730858564377]"
      ]
     },
     "execution_count": 27,
     "metadata": {},
     "output_type": "execute_result"
    }
   ],
   "source": [
    "transformer_stock_predictions"
   ]
  },
  {
   "cell_type": "code",
   "execution_count": 17,
   "metadata": {},
   "outputs": [
    {
     "data": {
      "text/html": [
       "<div>\n",
       "<style scoped>\n",
       "    .dataframe tbody tr th:only-of-type {\n",
       "        vertical-align: middle;\n",
       "    }\n",
       "\n",
       "    .dataframe tbody tr th {\n",
       "        vertical-align: top;\n",
       "    }\n",
       "\n",
       "    .dataframe thead th {\n",
       "        text-align: right;\n",
       "    }\n",
       "</style>\n",
       "<table border=\"1\" class=\"dataframe\">\n",
       "  <thead>\n",
       "    <tr style=\"text-align: right;\">\n",
       "      <th></th>\n",
       "      <th>day_of_week</th>\n",
       "      <th>day_of_month</th>\n",
       "      <th>week_of_year</th>\n",
       "      <th>month</th>\n",
       "      <th>year</th>\n",
       "      <th>open</th>\n",
       "      <th>high</th>\n",
       "      <th>low</th>\n",
       "      <th>volume</th>\n",
       "      <th>previous_change</th>\n",
       "      <th>future_change</th>\n",
       "      <th>close</th>\n",
       "      <th>date</th>\n",
       "    </tr>\n",
       "  </thead>\n",
       "  <tbody>\n",
       "    <tr>\n",
       "      <th>4462</th>\n",
       "      <td>4</td>\n",
       "      <td>14</td>\n",
       "      <td>41</td>\n",
       "      <td>10</td>\n",
       "      <td>2016</td>\n",
       "      <td>66.15</td>\n",
       "      <td>66.60</td>\n",
       "      <td>65.60</td>\n",
       "      <td>8265851.0</td>\n",
       "      <td>0.64</td>\n",
       "      <td>-0.38</td>\n",
       "      <td>65.99</td>\n",
       "      <td>2016-10-14</td>\n",
       "    </tr>\n",
       "    <tr>\n",
       "      <th>4463</th>\n",
       "      <td>0</td>\n",
       "      <td>17</td>\n",
       "      <td>42</td>\n",
       "      <td>10</td>\n",
       "      <td>2016</td>\n",
       "      <td>65.98</td>\n",
       "      <td>66.60</td>\n",
       "      <td>65.52</td>\n",
       "      <td>4883160.0</td>\n",
       "      <td>-0.38</td>\n",
       "      <td>1.00</td>\n",
       "      <td>65.61</td>\n",
       "      <td>2016-10-17</td>\n",
       "    </tr>\n",
       "    <tr>\n",
       "      <th>4464</th>\n",
       "      <td>1</td>\n",
       "      <td>18</td>\n",
       "      <td>42</td>\n",
       "      <td>10</td>\n",
       "      <td>2016</td>\n",
       "      <td>66.52</td>\n",
       "      <td>66.99</td>\n",
       "      <td>66.25</td>\n",
       "      <td>6734274.0</td>\n",
       "      <td>1.00</td>\n",
       "      <td>-0.14</td>\n",
       "      <td>66.61</td>\n",
       "      <td>2016-10-18</td>\n",
       "    </tr>\n",
       "    <tr>\n",
       "      <th>4465</th>\n",
       "      <td>2</td>\n",
       "      <td>19</td>\n",
       "      <td>42</td>\n",
       "      <td>10</td>\n",
       "      <td>2016</td>\n",
       "      <td>66.16</td>\n",
       "      <td>66.78</td>\n",
       "      <td>65.82</td>\n",
       "      <td>4976462.0</td>\n",
       "      <td>-0.14</td>\n",
       "      <td>1.26</td>\n",
       "      <td>66.47</td>\n",
       "      <td>2016-10-19</td>\n",
       "    </tr>\n",
       "    <tr>\n",
       "      <th>4466</th>\n",
       "      <td>3</td>\n",
       "      <td>20</td>\n",
       "      <td>42</td>\n",
       "      <td>10</td>\n",
       "      <td>2016</td>\n",
       "      <td>67.25</td>\n",
       "      <td>67.95</td>\n",
       "      <td>66.30</td>\n",
       "      <td>7802072.0</td>\n",
       "      <td>1.26</td>\n",
       "      <td>-0.19</td>\n",
       "      <td>67.73</td>\n",
       "      <td>2016-10-20</td>\n",
       "    </tr>\n",
       "  </tbody>\n",
       "</table>\n",
       "</div>"
      ],
      "text/plain": [
       "      day_of_week  day_of_month  week_of_year  month  year   open   high  \\\n",
       "4462            4            14            41     10  2016  66.15  66.60   \n",
       "4463            0            17            42     10  2016  65.98  66.60   \n",
       "4464            1            18            42     10  2016  66.52  66.99   \n",
       "4465            2            19            42     10  2016  66.16  66.78   \n",
       "4466            3            20            42     10  2016  67.25  67.95   \n",
       "\n",
       "        low     volume  previous_change  future_change  close       date  \n",
       "4462  65.60  8265851.0             0.64          -0.38  65.99 2016-10-14  \n",
       "4463  65.52  4883160.0            -0.38           1.00  65.61 2016-10-17  \n",
       "4464  66.25  6734274.0             1.00          -0.14  66.61 2016-10-18  \n",
       "4465  65.82  4976462.0            -0.14           1.26  66.47 2016-10-19  \n",
       "4466  66.30  7802072.0             1.26          -0.19  67.73 2016-10-20  "
      ]
     },
     "execution_count": 17,
     "metadata": {},
     "output_type": "execute_result"
    }
   ],
   "source": [
    "nvda_test_sequences_data.head()"
   ]
  },
  {
   "cell_type": "code",
   "execution_count": 18,
   "metadata": {},
   "outputs": [
    {
     "data": {
      "text/plain": [
       "<matplotlib.legend.Legend at 0x79cc26fec370>"
      ]
     },
     "execution_count": 18,
     "metadata": {},
     "output_type": "execute_result"
    },
    {
     "data": {
      "image/png": "[encoded data removed]",
      "text/plain": [
       "<Figure size 640x480 with 1 Axes>"
      ]
     },
     "metadata": {},
     "output_type": "display_data"
    }
   ],
   "source": [
    "dates = matplotlib.dates.date2num(nvda_test_sequences_data.date.tolist())\n",
    "plt.plot_date(dates, lstm_stock_predictions, '-', label = 'predicted')\n",
    "plt.plot_date(dates, lstm_stock_labels, '-', label = 'real')\n",
    "plt.xticks(rotation=45)\n",
    "plt.legend()"
   ]
  },
  {
   "cell_type": "code",
   "execution_count": 19,
   "metadata": {},
   "outputs": [
    {
     "data": {
      "text/plain": [
       "<matplotlib.legend.Legend at 0x79cc27a82b60>"
      ]
     },
     "execution_count": 19,
     "metadata": {},
     "output_type": "execute_result"
    },
    {
     "data": {
      "image/png": "[encoded data removed]",
      "text/plain": [
       "<Figure size 640x480 with 1 Axes>"
      ]
     },
     "metadata": {},
     "output_type": "display_data"
    }
   ],
   "source": [
    "plt.plot_date(dates, transformer_stock_predictions, '-', label = 'predicted')\n",
    "plt.plot_date(dates, transformer_stock_labels, '-', label = 'real')\n",
    "plt.xticks(rotation=45)\n",
    "plt.legend()"
   ]
  },
  {
   "cell_type": "code",
   "execution_count": 20,
   "metadata": {},
   "outputs": [
    {
     "data": {
      "text/plain": [
       "<matplotlib.legend.Legend at 0x79cc27965e10>"
      ]
     },
     "execution_count": 20,
     "metadata": {},
     "output_type": "execute_result"
    },
    {
     "data": {
      "image/png": "[encoded data removed]",
      "text/plain": [
       "<Figure size 640x480 with 1 Axes>"
      ]
     },
     "metadata": {},
     "output_type": "display_data"
    }
   ],
   "source": [
    "plt.plot_date(dates, mamba_stock_predictions, '-', label = 'predicted')\n",
    "plt.plot_date(dates, mamba_stock_labels, '-', label = 'real')\n",
    "plt.xticks(rotation=45)\n",
    "plt.legend()"
   ]
  },
  {
   "cell_type": "code",
   "execution_count": null,
   "metadata": {},
   "outputs": [],
   "source": []
  }
 ],
 "metadata": {
  "kernelspec": {
   "display_name": "Python 3",
   "language": "python",
   "name": "python3"
  },
  "language_info": {
   "codemirror_mode": {
    "name": "ipython",
    "version": 3
   },
   "file_extension": ".py",
   "mimetype": "text/x-python",
   "name": "python",
   "nbconvert_exporter": "python",
   "pygments_lexer": "ipython3",
   "version": "3.10.12"
  }
 },
 "nbformat": 4,
 "nbformat_minor": 2
}
